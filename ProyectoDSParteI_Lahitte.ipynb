{
  "nbformat": 4,
  "nbformat_minor": 0,
  "metadata": {
    "colab": {
      "provenance": [],
      "include_colab_link": true
    },
    "kernelspec": {
      "name": "python3",
      "display_name": "Python 3"
    },
    "language_info": {
      "name": "python"
    }
  },
  "cells": [
    {
      "cell_type": "markdown",
      "metadata": {
        "id": "view-in-github",
        "colab_type": "text"
      },
      "source": [
        "<a href=\"https://colab.research.google.com/github/manueh56/Pre-entrega-CoderHouse/blob/main/ProyectoDSParteI_Lahitte.ipynb\" target=\"_parent\"><img src=\"https://colab.research.google.com/assets/colab-badge.svg\" alt=\"Open In Colab\"/></a>"
      ]
    },
    {
      "cell_type": "markdown",
      "source": [
        "# **Presentación del proyecto**"
      ],
      "metadata": {
        "id": "xzB4gwuwanKZ"
      }
    },
    {
      "cell_type": "markdown",
      "source": [
        "**Abstracto con Motivación y Audiencia**"
      ],
      "metadata": {
        "id": "-LhnW5JudMDZ"
      }
    },
    {
      "cell_type": "markdown",
      "source": [
        "**Contexto Comercial y Analítico**"
      ],
      "metadata": {
        "id": "9mUn43cZdP_t"
      }
    },
    {
      "cell_type": "markdown",
      "source": [
        "**Preguntas/Hipótesis a Resolver mediante el Análisis de Datos**"
      ],
      "metadata": {
        "id": "3KBMDl_bdkqX"
      }
    },
    {
      "cell_type": "markdown",
      "source": [
        "**Objetivo**"
      ],
      "metadata": {
        "id": "06Xa-Tilds7o"
      }
    },
    {
      "cell_type": "markdown",
      "source": [
        "# **Lectura de datos**"
      ],
      "metadata": {
        "id": "8wLoKhWWaqNa"
      }
    },
    {
      "cell_type": "markdown",
      "source": [
        "**Librerias necesarias para el analisis de datos**"
      ],
      "metadata": {
        "id": "0Pe1ER-7cSiB"
      }
    },
    {
      "cell_type": "code",
      "source": [
        "import numpy as np\n",
        "import pandas as pd\n",
        "import matplotlib.pyplot as plt\n",
        "import seaborn as sns\n",
        "import plotly.express as px"
      ],
      "metadata": {
        "id": "FshYZ8_0cR0U"
      },
      "execution_count": 3,
      "outputs": []
    },
    {
      "cell_type": "markdown",
      "source": [
        "**Configuración del entorno de Python en Google Colab**"
      ],
      "metadata": {
        "id": "iS25rDiNcWoo"
      }
    },
    {
      "cell_type": "code",
      "source": [],
      "metadata": {
        "id": "WI7r7GcPaxfv"
      },
      "execution_count": null,
      "outputs": []
    },
    {
      "cell_type": "markdown",
      "source": [
        "**Lectura del dataset**"
      ],
      "metadata": {
        "id": "M58MXujYccl4"
      }
    },
    {
      "cell_type": "code",
      "source": [
        "df = pd.read_csv(\"https://raw.githubusercontent.com/manueh56/Pre-entrega-CoderHouse/refs/heads/main/Dataset%20CoderHouse.csv\", delimiter=';')"
      ],
      "metadata": {
        "id": "lTis7QCwceYm"
      },
      "execution_count": 6,
      "outputs": []
    },
    {
      "cell_type": "code",
      "source": [
        "display(df.head())"
      ],
      "metadata": {
        "colab": {
          "base_uri": "https://localhost:8080/",
          "height": 308
        },
        "id": "sjYAlYKkOa5s",
        "outputId": "be8678ab-669c-4340-940c-1243ebd27152"
      },
      "execution_count": 7,
      "outputs": [
        {
          "output_type": "display_data",
          "data": {
            "text/plain": [
              "     Age  Gender  Weight (kg)  Height (m)  Max_BPM  Avg_BPM  Resting_BPM  \\\n",
              "0  34.91    Male        65.27        1.62   188.58   157.65        69.05   \n",
              "1  23.37  Female        56.41        1.55   179.43   131.75        73.18   \n",
              "2  33.20  Female        58.98        1.67   175.04   123.95        54.96   \n",
              "3  38.69  Female        93.78        1.70   191.21   155.10        50.07   \n",
              "4  45.09    Male        52.42        1.88   193.58   152.88        70.84   \n",
              "\n",
              "   Session_Duration (hours)  Calories_Burned Workout_Type  ...  \\\n",
              "0                      1.00          1080.90     Strength  ...   \n",
              "1                      1.37          1809.91         HIIT  ...   \n",
              "2                      0.91           802.26       Cardio  ...   \n",
              "3                      1.10          1450.79         HIIT  ...   \n",
              "4                      1.08          1166.40     Strength  ...   \n",
              "\n",
              "          cal_from_macros  pct_carbs          protein_per_kg  \\\n",
              "0                 2139.59   0.500432   1.624.789.336.601.800   \n",
              "1                 1711.65   0.500850  15.140.932.458.783.900   \n",
              "2                 1965.92   0.500610  16.634.452.356.731.000   \n",
              "3                 1627.28   0.499533      0.8620174877372574   \n",
              "4  26.592.300.000.000.000   0.500581   2.538.153.376.573.820   \n",
              "\n",
              "              pct_HRR           pct_maxHR              cal_balance  \\\n",
              "0  0.7412365096628462  0.8359847279669106    7.250.999.999.999.990   \n",
              "1  0.5512470588235293  0.7342696316112133  -23.291.000.000.000.000   \n",
              "2  0.5745336442371753   0.708123857404022                   805.74   \n",
              "3  0.7441547399744933   0.811150044453742                  1206.21   \n",
              "4  0.6684047580250936  0.7897510073354684    3.035.999.999.999.990   \n",
              "\n",
              "            lean_mass_kg          expected_burn  \\\n",
              "0  4.777.739.381.514.470                 685.16   \n",
              "1    408.098.026.823.542  9.786.184.000.000.000   \n",
              "2  4.463.557.970.100.270              6.545.266   \n",
              "3  6.300.743.237.900.560                 773.63   \n",
              "4  4.334.750.358.810.570  7.114.176.000.000.000   \n",
              "\n",
              "   Burns Calories (per 30 min)_bc  Burns_Calories_Bin  \n",
              "0                        7,26E+34              Medium  \n",
              "1                        1,02E+34                High  \n",
              "2                        1,08E+36                High  \n",
              "3                        8,99E+34                High  \n",
              "4                        5,26E+34                 Low  \n",
              "\n",
              "[5 rows x 54 columns]"
            ],
            "text/html": [
              "\n",
              "  <div id=\"df-9f5747a9-b870-4fa9-b56b-5b602bd1da0a\" class=\"colab-df-container\">\n",
              "    <div>\n",
              "<style scoped>\n",
              "    .dataframe tbody tr th:only-of-type {\n",
              "        vertical-align: middle;\n",
              "    }\n",
              "\n",
              "    .dataframe tbody tr th {\n",
              "        vertical-align: top;\n",
              "    }\n",
              "\n",
              "    .dataframe thead th {\n",
              "        text-align: right;\n",
              "    }\n",
              "</style>\n",
              "<table border=\"1\" class=\"dataframe\">\n",
              "  <thead>\n",
              "    <tr style=\"text-align: right;\">\n",
              "      <th></th>\n",
              "      <th>Age</th>\n",
              "      <th>Gender</th>\n",
              "      <th>Weight (kg)</th>\n",
              "      <th>Height (m)</th>\n",
              "      <th>Max_BPM</th>\n",
              "      <th>Avg_BPM</th>\n",
              "      <th>Resting_BPM</th>\n",
              "      <th>Session_Duration (hours)</th>\n",
              "      <th>Calories_Burned</th>\n",
              "      <th>Workout_Type</th>\n",
              "      <th>...</th>\n",
              "      <th>cal_from_macros</th>\n",
              "      <th>pct_carbs</th>\n",
              "      <th>protein_per_kg</th>\n",
              "      <th>pct_HRR</th>\n",
              "      <th>pct_maxHR</th>\n",
              "      <th>cal_balance</th>\n",
              "      <th>lean_mass_kg</th>\n",
              "      <th>expected_burn</th>\n",
              "      <th>Burns Calories (per 30 min)_bc</th>\n",
              "      <th>Burns_Calories_Bin</th>\n",
              "    </tr>\n",
              "  </thead>\n",
              "  <tbody>\n",
              "    <tr>\n",
              "      <th>0</th>\n",
              "      <td>34.91</td>\n",
              "      <td>Male</td>\n",
              "      <td>65.27</td>\n",
              "      <td>1.62</td>\n",
              "      <td>188.58</td>\n",
              "      <td>157.65</td>\n",
              "      <td>69.05</td>\n",
              "      <td>1.00</td>\n",
              "      <td>1080.90</td>\n",
              "      <td>Strength</td>\n",
              "      <td>...</td>\n",
              "      <td>2139.59</td>\n",
              "      <td>0.500432</td>\n",
              "      <td>1.624.789.336.601.800</td>\n",
              "      <td>0.7412365096628462</td>\n",
              "      <td>0.8359847279669106</td>\n",
              "      <td>7.250.999.999.999.990</td>\n",
              "      <td>4.777.739.381.514.470</td>\n",
              "      <td>685.16</td>\n",
              "      <td>7,26E+34</td>\n",
              "      <td>Medium</td>\n",
              "    </tr>\n",
              "    <tr>\n",
              "      <th>1</th>\n",
              "      <td>23.37</td>\n",
              "      <td>Female</td>\n",
              "      <td>56.41</td>\n",
              "      <td>1.55</td>\n",
              "      <td>179.43</td>\n",
              "      <td>131.75</td>\n",
              "      <td>73.18</td>\n",
              "      <td>1.37</td>\n",
              "      <td>1809.91</td>\n",
              "      <td>HIIT</td>\n",
              "      <td>...</td>\n",
              "      <td>1711.65</td>\n",
              "      <td>0.500850</td>\n",
              "      <td>15.140.932.458.783.900</td>\n",
              "      <td>0.5512470588235293</td>\n",
              "      <td>0.7342696316112133</td>\n",
              "      <td>-23.291.000.000.000.000</td>\n",
              "      <td>408.098.026.823.542</td>\n",
              "      <td>9.786.184.000.000.000</td>\n",
              "      <td>1,02E+34</td>\n",
              "      <td>High</td>\n",
              "    </tr>\n",
              "    <tr>\n",
              "      <th>2</th>\n",
              "      <td>33.20</td>\n",
              "      <td>Female</td>\n",
              "      <td>58.98</td>\n",
              "      <td>1.67</td>\n",
              "      <td>175.04</td>\n",
              "      <td>123.95</td>\n",
              "      <td>54.96</td>\n",
              "      <td>0.91</td>\n",
              "      <td>802.26</td>\n",
              "      <td>Cardio</td>\n",
              "      <td>...</td>\n",
              "      <td>1965.92</td>\n",
              "      <td>0.500610</td>\n",
              "      <td>16.634.452.356.731.000</td>\n",
              "      <td>0.5745336442371753</td>\n",
              "      <td>0.708123857404022</td>\n",
              "      <td>805.74</td>\n",
              "      <td>4.463.557.970.100.270</td>\n",
              "      <td>6.545.266</td>\n",
              "      <td>1,08E+36</td>\n",
              "      <td>High</td>\n",
              "    </tr>\n",
              "    <tr>\n",
              "      <th>3</th>\n",
              "      <td>38.69</td>\n",
              "      <td>Female</td>\n",
              "      <td>93.78</td>\n",
              "      <td>1.70</td>\n",
              "      <td>191.21</td>\n",
              "      <td>155.10</td>\n",
              "      <td>50.07</td>\n",
              "      <td>1.10</td>\n",
              "      <td>1450.79</td>\n",
              "      <td>HIIT</td>\n",
              "      <td>...</td>\n",
              "      <td>1627.28</td>\n",
              "      <td>0.499533</td>\n",
              "      <td>0.8620174877372574</td>\n",
              "      <td>0.7441547399744933</td>\n",
              "      <td>0.811150044453742</td>\n",
              "      <td>1206.21</td>\n",
              "      <td>6.300.743.237.900.560</td>\n",
              "      <td>773.63</td>\n",
              "      <td>8,99E+34</td>\n",
              "      <td>High</td>\n",
              "    </tr>\n",
              "    <tr>\n",
              "      <th>4</th>\n",
              "      <td>45.09</td>\n",
              "      <td>Male</td>\n",
              "      <td>52.42</td>\n",
              "      <td>1.88</td>\n",
              "      <td>193.58</td>\n",
              "      <td>152.88</td>\n",
              "      <td>70.84</td>\n",
              "      <td>1.08</td>\n",
              "      <td>1166.40</td>\n",
              "      <td>Strength</td>\n",
              "      <td>...</td>\n",
              "      <td>26.592.300.000.000.000</td>\n",
              "      <td>0.500581</td>\n",
              "      <td>2.538.153.376.573.820</td>\n",
              "      <td>0.6684047580250936</td>\n",
              "      <td>0.7897510073354684</td>\n",
              "      <td>3.035.999.999.999.990</td>\n",
              "      <td>4.334.750.358.810.570</td>\n",
              "      <td>7.114.176.000.000.000</td>\n",
              "      <td>5,26E+34</td>\n",
              "      <td>Low</td>\n",
              "    </tr>\n",
              "  </tbody>\n",
              "</table>\n",
              "<p>5 rows × 54 columns</p>\n",
              "</div>\n",
              "    <div class=\"colab-df-buttons\">\n",
              "\n",
              "  <div class=\"colab-df-container\">\n",
              "    <button class=\"colab-df-convert\" onclick=\"convertToInteractive('df-9f5747a9-b870-4fa9-b56b-5b602bd1da0a')\"\n",
              "            title=\"Convert this dataframe to an interactive table.\"\n",
              "            style=\"display:none;\">\n",
              "\n",
              "  <svg xmlns=\"http://www.w3.org/2000/svg\" height=\"24px\" viewBox=\"0 -960 960 960\">\n",
              "    <path d=\"M120-120v-720h720v720H120Zm60-500h600v-160H180v160Zm220 220h160v-160H400v160Zm0 220h160v-160H400v160ZM180-400h160v-160H180v160Zm440 0h160v-160H620v160ZM180-180h160v-160H180v160Zm440 0h160v-160H620v160Z\"/>\n",
              "  </svg>\n",
              "    </button>\n",
              "\n",
              "  <style>\n",
              "    .colab-df-container {\n",
              "      display:flex;\n",
              "      gap: 12px;\n",
              "    }\n",
              "\n",
              "    .colab-df-convert {\n",
              "      background-color: #E8F0FE;\n",
              "      border: none;\n",
              "      border-radius: 50%;\n",
              "      cursor: pointer;\n",
              "      display: none;\n",
              "      fill: #1967D2;\n",
              "      height: 32px;\n",
              "      padding: 0 0 0 0;\n",
              "      width: 32px;\n",
              "    }\n",
              "\n",
              "    .colab-df-convert:hover {\n",
              "      background-color: #E2EBFA;\n",
              "      box-shadow: 0px 1px 2px rgba(60, 64, 67, 0.3), 0px 1px 3px 1px rgba(60, 64, 67, 0.15);\n",
              "      fill: #174EA6;\n",
              "    }\n",
              "\n",
              "    .colab-df-buttons div {\n",
              "      margin-bottom: 4px;\n",
              "    }\n",
              "\n",
              "    [theme=dark] .colab-df-convert {\n",
              "      background-color: #3B4455;\n",
              "      fill: #D2E3FC;\n",
              "    }\n",
              "\n",
              "    [theme=dark] .colab-df-convert:hover {\n",
              "      background-color: #434B5C;\n",
              "      box-shadow: 0px 1px 3px 1px rgba(0, 0, 0, 0.15);\n",
              "      filter: drop-shadow(0px 1px 2px rgba(0, 0, 0, 0.3));\n",
              "      fill: #FFFFFF;\n",
              "    }\n",
              "  </style>\n",
              "\n",
              "    <script>\n",
              "      const buttonEl =\n",
              "        document.querySelector('#df-9f5747a9-b870-4fa9-b56b-5b602bd1da0a button.colab-df-convert');\n",
              "      buttonEl.style.display =\n",
              "        google.colab.kernel.accessAllowed ? 'block' : 'none';\n",
              "\n",
              "      async function convertToInteractive(key) {\n",
              "        const element = document.querySelector('#df-9f5747a9-b870-4fa9-b56b-5b602bd1da0a');\n",
              "        const dataTable =\n",
              "          await google.colab.kernel.invokeFunction('convertToInteractive',\n",
              "                                                    [key], {});\n",
              "        if (!dataTable) return;\n",
              "\n",
              "        const docLinkHtml = 'Like what you see? Visit the ' +\n",
              "          '<a target=\"_blank\" href=https://colab.research.google.com/notebooks/data_table.ipynb>data table notebook</a>'\n",
              "          + ' to learn more about interactive tables.';\n",
              "        element.innerHTML = '';\n",
              "        dataTable['output_type'] = 'display_data';\n",
              "        await google.colab.output.renderOutput(dataTable, element);\n",
              "        const docLink = document.createElement('div');\n",
              "        docLink.innerHTML = docLinkHtml;\n",
              "        element.appendChild(docLink);\n",
              "      }\n",
              "    </script>\n",
              "  </div>\n",
              "\n",
              "\n",
              "    <div id=\"df-06e8ca5b-9126-4f3b-90bb-1767855f1311\">\n",
              "      <button class=\"colab-df-quickchart\" onclick=\"quickchart('df-06e8ca5b-9126-4f3b-90bb-1767855f1311')\"\n",
              "                title=\"Suggest charts\"\n",
              "                style=\"display:none;\">\n",
              "\n",
              "<svg xmlns=\"http://www.w3.org/2000/svg\" height=\"24px\"viewBox=\"0 0 24 24\"\n",
              "     width=\"24px\">\n",
              "    <g>\n",
              "        <path d=\"M19 3H5c-1.1 0-2 .9-2 2v14c0 1.1.9 2 2 2h14c1.1 0 2-.9 2-2V5c0-1.1-.9-2-2-2zM9 17H7v-7h2v7zm4 0h-2V7h2v10zm4 0h-2v-4h2v4z\"/>\n",
              "    </g>\n",
              "</svg>\n",
              "      </button>\n",
              "\n",
              "<style>\n",
              "  .colab-df-quickchart {\n",
              "      --bg-color: #E8F0FE;\n",
              "      --fill-color: #1967D2;\n",
              "      --hover-bg-color: #E2EBFA;\n",
              "      --hover-fill-color: #174EA6;\n",
              "      --disabled-fill-color: #AAA;\n",
              "      --disabled-bg-color: #DDD;\n",
              "  }\n",
              "\n",
              "  [theme=dark] .colab-df-quickchart {\n",
              "      --bg-color: #3B4455;\n",
              "      --fill-color: #D2E3FC;\n",
              "      --hover-bg-color: #434B5C;\n",
              "      --hover-fill-color: #FFFFFF;\n",
              "      --disabled-bg-color: #3B4455;\n",
              "      --disabled-fill-color: #666;\n",
              "  }\n",
              "\n",
              "  .colab-df-quickchart {\n",
              "    background-color: var(--bg-color);\n",
              "    border: none;\n",
              "    border-radius: 50%;\n",
              "    cursor: pointer;\n",
              "    display: none;\n",
              "    fill: var(--fill-color);\n",
              "    height: 32px;\n",
              "    padding: 0;\n",
              "    width: 32px;\n",
              "  }\n",
              "\n",
              "  .colab-df-quickchart:hover {\n",
              "    background-color: var(--hover-bg-color);\n",
              "    box-shadow: 0 1px 2px rgba(60, 64, 67, 0.3), 0 1px 3px 1px rgba(60, 64, 67, 0.15);\n",
              "    fill: var(--button-hover-fill-color);\n",
              "  }\n",
              "\n",
              "  .colab-df-quickchart-complete:disabled,\n",
              "  .colab-df-quickchart-complete:disabled:hover {\n",
              "    background-color: var(--disabled-bg-color);\n",
              "    fill: var(--disabled-fill-color);\n",
              "    box-shadow: none;\n",
              "  }\n",
              "\n",
              "  .colab-df-spinner {\n",
              "    border: 2px solid var(--fill-color);\n",
              "    border-color: transparent;\n",
              "    border-bottom-color: var(--fill-color);\n",
              "    animation:\n",
              "      spin 1s steps(1) infinite;\n",
              "  }\n",
              "\n",
              "  @keyframes spin {\n",
              "    0% {\n",
              "      border-color: transparent;\n",
              "      border-bottom-color: var(--fill-color);\n",
              "      border-left-color: var(--fill-color);\n",
              "    }\n",
              "    20% {\n",
              "      border-color: transparent;\n",
              "      border-left-color: var(--fill-color);\n",
              "      border-top-color: var(--fill-color);\n",
              "    }\n",
              "    30% {\n",
              "      border-color: transparent;\n",
              "      border-left-color: var(--fill-color);\n",
              "      border-top-color: var(--fill-color);\n",
              "      border-right-color: var(--fill-color);\n",
              "    }\n",
              "    40% {\n",
              "      border-color: transparent;\n",
              "      border-right-color: var(--fill-color);\n",
              "      border-top-color: var(--fill-color);\n",
              "    }\n",
              "    60% {\n",
              "      border-color: transparent;\n",
              "      border-right-color: var(--fill-color);\n",
              "    }\n",
              "    80% {\n",
              "      border-color: transparent;\n",
              "      border-right-color: var(--fill-color);\n",
              "      border-bottom-color: var(--fill-color);\n",
              "    }\n",
              "    90% {\n",
              "      border-color: transparent;\n",
              "      border-bottom-color: var(--fill-color);\n",
              "    }\n",
              "  }\n",
              "</style>\n",
              "\n",
              "      <script>\n",
              "        async function quickchart(key) {\n",
              "          const quickchartButtonEl =\n",
              "            document.querySelector('#' + key + ' button');\n",
              "          quickchartButtonEl.disabled = true;  // To prevent multiple clicks.\n",
              "          quickchartButtonEl.classList.add('colab-df-spinner');\n",
              "          try {\n",
              "            const charts = await google.colab.kernel.invokeFunction(\n",
              "                'suggestCharts', [key], {});\n",
              "          } catch (error) {\n",
              "            console.error('Error during call to suggestCharts:', error);\n",
              "          }\n",
              "          quickchartButtonEl.classList.remove('colab-df-spinner');\n",
              "          quickchartButtonEl.classList.add('colab-df-quickchart-complete');\n",
              "        }\n",
              "        (() => {\n",
              "          let quickchartButtonEl =\n",
              "            document.querySelector('#df-06e8ca5b-9126-4f3b-90bb-1767855f1311 button');\n",
              "          quickchartButtonEl.style.display =\n",
              "            google.colab.kernel.accessAllowed ? 'block' : 'none';\n",
              "        })();\n",
              "      </script>\n",
              "    </div>\n",
              "\n",
              "    </div>\n",
              "  </div>\n"
            ],
            "application/vnd.google.colaboratory.intrinsic+json": {
              "type": "dataframe"
            }
          },
          "metadata": {}
        }
      ]
    },
    {
      "cell_type": "markdown",
      "source": [
        "**Análisis inicial del dataset**"
      ],
      "metadata": {
        "id": "iKtGzziecpLH"
      }
    },
    {
      "cell_type": "code",
      "source": [],
      "metadata": {
        "id": "hh1xD8TFc1EJ"
      },
      "execution_count": null,
      "outputs": []
    },
    {
      "cell_type": "markdown",
      "source": [
        "**Descripción de variables**"
      ],
      "metadata": {
        "id": "Ip6Q4VKwcmjH"
      }
    },
    {
      "cell_type": "code",
      "source": [],
      "metadata": {
        "id": "WlyARXoccmJA"
      },
      "execution_count": null,
      "outputs": []
    },
    {
      "cell_type": "markdown",
      "source": [
        "# **Data Wrangling - Limpieza y transformación de datos**"
      ],
      "metadata": {
        "id": "s67AKL12xavC"
      }
    },
    {
      "cell_type": "markdown",
      "source": [
        "**Valores duplicados**"
      ],
      "metadata": {
        "id": "Ck2Oovr6xgQi"
      }
    },
    {
      "cell_type": "code",
      "source": [],
      "metadata": {
        "id": "rt_NRKaBxghq"
      },
      "execution_count": null,
      "outputs": []
    },
    {
      "cell_type": "markdown",
      "source": [
        "**Valores nulos**"
      ],
      "metadata": {
        "id": "ae_UXIASxgxa"
      }
    },
    {
      "cell_type": "code",
      "source": [],
      "metadata": {
        "id": "keuycrK8xhNa"
      },
      "execution_count": null,
      "outputs": []
    },
    {
      "cell_type": "markdown",
      "source": [
        "**Tratamiento de valores outliers**"
      ],
      "metadata": {
        "id": "A1hJkzS4xhdi"
      }
    },
    {
      "cell_type": "code",
      "source": [],
      "metadata": {
        "id": "1BECuD5Vxtg6"
      },
      "execution_count": null,
      "outputs": []
    },
    {
      "cell_type": "markdown",
      "source": [
        "**Otras transformaciones, normalización, fechas**"
      ],
      "metadata": {
        "id": "CbSRhTXIxyzz"
      }
    },
    {
      "cell_type": "markdown",
      "source": [
        "# **Análisis Exploratorio de datos**"
      ],
      "metadata": {
        "id": "xyjs1qjza7Rf"
      }
    },
    {
      "cell_type": "markdown",
      "source": [
        "**Análisis univariado**"
      ],
      "metadata": {
        "id": "wLFe1k_UbgVx"
      }
    },
    {
      "cell_type": "code",
      "source": [],
      "metadata": {
        "id": "O1lqMImVbt1w"
      },
      "execution_count": null,
      "outputs": []
    },
    {
      "cell_type": "markdown",
      "source": [
        "**Análisis bivariado**"
      ],
      "metadata": {
        "id": "fn8NOZ6CbmhS"
      }
    },
    {
      "cell_type": "code",
      "source": [],
      "metadata": {
        "id": "F1MaztRFbtcR"
      },
      "execution_count": null,
      "outputs": []
    },
    {
      "cell_type": "markdown",
      "source": [
        "**Análisis multivariado**"
      ],
      "metadata": {
        "id": "nx3h1AVKbmYv"
      }
    },
    {
      "cell_type": "code",
      "source": [],
      "metadata": {
        "id": "W7XGF7-1bHYe"
      },
      "execution_count": null,
      "outputs": []
    },
    {
      "cell_type": "markdown",
      "source": [
        "**Conclusiones del EDA**"
      ],
      "metadata": {
        "id": "7y65fz63emSb"
      }
    },
    {
      "cell_type": "code",
      "execution_count": null,
      "metadata": {
        "id": "q9Se7LgBcvFH"
      },
      "outputs": [],
      "source": []
    }
  ]
}